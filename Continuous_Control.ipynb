{
 "cells": [
  {
   "cell_type": "markdown",
   "source": [
    "# Continuous Control\n",
    "\n",
    "---\n",
    "\n",
    "In this notebook, you will learn how to use the Unity ML-Agents environment for the second project of the [Deep Reinforcement Learning Nanodegree](https://www.udacity.com/course/deep-reinforcement-learning-nanodegree--nd893) program.\n",
    "\n",
    "### 1. Start the Environment\n",
    "\n",
    "We begin by importing the necessary packages.  If the code cell below returns an error, please revisit the project instructions to double-check that you have installed [Unity ML-Agents](https://github.com/Unity-Technologies/ml-agents/blob/master/docs/Installation.md) and [NumPy](http://www.numpy.org/)."
   ],
   "metadata": {}
  },
  {
   "cell_type": "code",
   "execution_count": 1,
   "source": [
    "from unityagents import UnityEnvironment\n",
    "import numpy as np\n",
    "\n",
    "import random\n",
    "import time\n",
    "import torch\n",
    "\n",
    "import matplotlib.pyplot as plt\n",
    "%matplotlib inline\n",
    "\n",
    "from collections import deque\n",
    "from ddpg_agent import Agent\n",
    "from unityagents import UnityEnvironment"
   ],
   "outputs": [],
   "metadata": {}
  },
  {
   "cell_type": "markdown",
   "source": [
    "Next, we will start the environment!  **_Before running the code cell below_**, change the `file_name` parameter to match the location of the Unity environment that you downloaded.\n",
    "\n",
    "- **Mac**: `\"path/to/Reacher.app\"`\n",
    "- **Windows** (x86): `\"path/to/Reacher_Windows_x86/Reacher.exe\"`\n",
    "- **Windows** (x86_64): `\"path/to/Reacher_Windows_x86_64/Reacher.exe\"`\n",
    "- **Linux** (x86): `\"path/to/Reacher_Linux/Reacher.x86\"`\n",
    "- **Linux** (x86_64): `\"path/to/Reacher_Linux/Reacher.x86_64\"`\n",
    "- **Linux** (x86, headless): `\"path/to/Reacher_Linux_NoVis/Reacher.x86\"`\n",
    "- **Linux** (x86_64, headless): `\"path/to/Reacher_Linux_NoVis/Reacher.x86_64\"`\n",
    "\n",
    "For instance, if you are using a Mac, then you downloaded `Reacher.app`.  If this file is in the same folder as the notebook, then the line below should appear as follows:\n",
    "```\n",
    "env = UnityEnvironment(file_name=\"Reacher.app\")\n",
    "```"
   ],
   "metadata": {}
  },
  {
   "cell_type": "code",
   "execution_count": 2,
   "source": [
    "env = UnityEnvironment(file_name='/home/tktk/deep-reinforcement-learning/p2_continuous-control/Reacher_Linux/Reacher.x86')"
   ],
   "outputs": [
    {
     "output_type": "stream",
     "name": "stderr",
     "text": [
      "INFO:unityagents:\n",
      "'Academy' started successfully!\n",
      "Unity Academy name: Academy\n",
      "        Number of Brains: 1\n",
      "        Number of External Brains : 1\n",
      "        Lesson number : 0\n",
      "        Reset Parameters :\n",
      "\t\tgoal_speed -> 1.0\n",
      "\t\tgoal_size -> 5.0\n",
      "Unity brain name: ReacherBrain\n",
      "        Number of Visual Observations (per agent): 0\n",
      "        Vector Observation space type: continuous\n",
      "        Vector Observation space size (per agent): 33\n",
      "        Number of stacked Vector Observation: 1\n",
      "        Vector Action space type: continuous\n",
      "        Vector Action space size (per agent): 4\n",
      "        Vector Action descriptions: , , , \n"
     ]
    }
   ],
   "metadata": {}
  },
  {
   "cell_type": "markdown",
   "source": [
    "Environments contain **_brains_** which are responsible for deciding the actions of their associated agents. Here we check for the first brain available, and set it as the default brain we will be controlling from Python."
   ],
   "metadata": {}
  },
  {
   "cell_type": "code",
   "execution_count": 3,
   "source": [
    "# get the default brain\n",
    "brain_name = env.brain_names[0]\n",
    "brain = env.brains[brain_name]"
   ],
   "outputs": [],
   "metadata": {}
  },
  {
   "cell_type": "markdown",
   "source": [
    "### 2. Examine the State and Action Spaces\n",
    "\n",
    "In this environment, a double-jointed arm can move to target locations. A reward of `+0.1` is provided for each step that the agent's hand is in the goal location. Thus, the goal of your agent is to maintain its position at the target location for as many time steps as possible.\n",
    "\n",
    "The observation space consists of `33` variables corresponding to position, rotation, velocity, and angular velocities of the arm.  Each action is a vector with four numbers, corresponding to torque applicable to two joints.  Every entry in the action vector must be a number between `-1` and `1`.\n",
    "\n",
    "Run the code cell below to print some information about the environment."
   ],
   "metadata": {}
  },
  {
   "cell_type": "code",
   "execution_count": 4,
   "source": [
    "# reset the environment\n",
    "env_info = env.reset(train_mode=True)[brain_name]\n",
    "\n",
    "# number of agents\n",
    "num_agents = len(env_info.agents)\n",
    "print('Number of agents:', num_agents)\n",
    "\n",
    "# size of each action\n",
    "action_size = brain.vector_action_space_size\n",
    "print('Size of each action:', action_size)\n",
    "\n",
    "# examine the state space \n",
    "states = env_info.vector_observations\n",
    "state_size = states.shape[1]\n",
    "print('There are {} agents. Each observes a state with length: {}'.format(states.shape[0], state_size))\n",
    "print('The state for the first agent looks like:', states[0])"
   ],
   "outputs": [
    {
     "output_type": "stream",
     "name": "stdout",
     "text": [
      "Number of agents: 20\n",
      "Size of each action: 4\n",
      "There are 20 agents. Each observes a state with length: 33\n",
      "The state for the first agent looks like: [ 0.00000000e+00 -4.00000000e+00  0.00000000e+00  1.00000000e+00\n",
      " -0.00000000e+00 -0.00000000e+00 -4.37113883e-08  0.00000000e+00\n",
      "  0.00000000e+00  0.00000000e+00  0.00000000e+00  0.00000000e+00\n",
      "  0.00000000e+00  0.00000000e+00 -1.00000000e+01  0.00000000e+00\n",
      "  1.00000000e+00 -0.00000000e+00 -0.00000000e+00 -4.37113883e-08\n",
      "  0.00000000e+00  0.00000000e+00  0.00000000e+00  0.00000000e+00\n",
      "  0.00000000e+00  0.00000000e+00  5.75471878e+00 -1.00000000e+00\n",
      "  5.55726624e+00  0.00000000e+00  1.00000000e+00  0.00000000e+00\n",
      " -1.68164849e-01]\n"
     ]
    }
   ],
   "metadata": {}
  },
  {
   "cell_type": "markdown",
   "source": [
    "### 3. Take Random Actions in the Environment\n",
    "\n",
    "In the next code cell, you will learn how to use the Python API to control the agent and receive feedback from the environment.\n",
    "\n",
    "Once this cell is executed, you will watch the agent's performance, if it selects an action at random with each time step.  A window should pop up that allows you to observe the agent, as it moves through the environment.  \n",
    "\n",
    "Of course, as part of the project, you'll have to change the code so that the agent is able to use its experience to gradually choose better actions when interacting with the environment!"
   ],
   "metadata": {}
  },
  {
   "cell_type": "code",
   "execution_count": 5,
   "source": [
    "# env_info = env.reset(train_mode=True)[brain_name]     # reset the environment    \n",
    "# states = env_info.vector_observations                  # get the current state (for each agent)\n",
    "# scores = np.zeros(num_agents)                          # initialize the score (for each agent)\n",
    "# while True:\n",
    "#     actions = np.random.randn(num_agents, action_size) # select an action (for each agent)\n",
    "#     actions = np.clip(actions, -1, 1)                  # all actions between -1 and 1\n",
    "#     env_info = env.step(actions)[brain_name]           # send all actions to tne environment\n",
    "#     next_states = env_info.vector_observations         # get next state (for each agent)\n",
    "#     rewards = env_info.rewards                         # get reward (for each agent)\n",
    "#     dones = env_info.local_done                        # see if episode finished\n",
    "#     scores += env_info.rewards                         # update the score (for each agent)\n",
    "#     states = next_states                               # roll over states to next time step\n",
    "#     if np.any(dones):                                  # exit loop if episode finished\n",
    "#         break\n",
    "# print('Total score (averaged over agents) this episode: {}'.format(np.mean(scores)))"
   ],
   "outputs": [],
   "metadata": {}
  },
  {
   "cell_type": "markdown",
   "source": [
    "When finished, you can close the environment."
   ],
   "metadata": {}
  },
  {
   "cell_type": "code",
   "execution_count": 6,
   "source": [
    "# env.close()"
   ],
   "outputs": [],
   "metadata": {}
  },
  {
   "cell_type": "markdown",
   "source": [
    "### 4. It's Your Turn!\n",
    "\n",
    "Now it's your turn to train your own agent to solve the environment!  When training the environment, set `train_mode=True`, so that the line for resetting the environment looks like the following:\n",
    "```python\n",
    "env_info = env.reset(train_mode=True)[brain_name]\n",
    "```"
   ],
   "metadata": {}
  },
  {
   "cell_type": "code",
   "execution_count": 7,
   "source": [
    "\n",
    "# def ddpg(agent,n_episodes=2000, max_t=1000, last_episode_number=1):\n",
    "\n",
    "#     scores_window = deque(maxlen=100)\n",
    "#     scores = []\n",
    "#     total_time_elapsed = 0\n",
    "#     for i_episode in range(last_episode_number, n_episodes+1):\n",
    "#         begin = time.time()\n",
    "#         score_avg = 0\n",
    "#         env_info = env.reset(train_mode=True)[brain_name]      # reset the environment\n",
    "# #         print('Reset environment...')\n",
    "#         states = env_info.vector_observations                  # get the current state (for each agent)\n",
    "#         scores_temp = np.zeros(num_agents)                        # initialize the score (for each agent)\n",
    "#         agent.reset()\n",
    "#         score = 0\n",
    "#         for t_step in range(max_t):\n",
    "#             actions = agent.act(states)     \n",
    "#             env_info = env.step(actions)[brain_name]           # send all actions to tne environment\n",
    "#             next_states = env_info.vector_observations         # get next state (for each agent)\n",
    "#             rewards = env_info.rewards                         # get reward (for each agent)\n",
    "#             dones = env_info.local_done                        # see if episode finished   \n",
    "#             agent.step(states, actions, rewards, next_states, dones, t_step)\n",
    "#             states = next_states\n",
    "#             scores_temp += rewards\n",
    "#             if np.any(dones):\n",
    "#                 break\n",
    "        \n",
    "#         score = np.mean(scores_temp)\n",
    "#         scores_window.append(score)\n",
    "#         score_avg = np.mean(scores_window)\n",
    "#         scores.append(score)        \n",
    "        \n",
    "#         end = time.time()\n",
    "#         diff = end - begin\n",
    "#         print(\"\\rEpisode {:}\\t Average Score {:.2f}\\tMax Score {:.2f}\\tTime {:.2f} s\".format(i_episode, score_avg, scores_temp.max(), diff), end=\"\")\n",
    "#         total_time_elapsed += diff\n",
    "        \n",
    "#         if i_episode % 50 == 0:\n",
    "#             print(\"\\rEpisode {:}\\t Average Score {:.2f}\\tMax Score {:.2f}\".format(i_episode, score_avg, scores_temp.max()))\n",
    "#             torch.save(agent.actor_local.state_dict(), './checkpoint_actor_'+str(i_episode)+'.pth')\n",
    "#             torch.save(agent.critic_local.state_dict(), './checkpoint_critic_'+str(i_episode)+'.pth')\n",
    "\n",
    "#         if score_avg >= 30:\n",
    "#             print('\\nEnvironment solved in {:d} episodes!\\tAverage Score: {:.2f}\\t\\tTime Elapsed {:.2f} s'.format(i_episode, score_avg,total_time_elapsed))\n",
    "#             torch.save(agent.actor_local.state_dict(), './checkpoint_actor.pth')\n",
    "#             torch.save(agent.critic_local.state_dict(), './checkpoint_critic.pth')            \n",
    "#             break \n",
    "#     return scores\n",
    "\n",
    "# scores = ddpg(agent)"
   ],
   "outputs": [],
   "metadata": {}
  },
  {
   "cell_type": "code",
   "execution_count": 8,
   "source": [
    "\n",
    "state = 'Train'\n",
    "agent = Agent(env=env, random_seed=18)\n",
    "if state == 'Train':\n",
    "    scores = agent.train(n_episodes=3000, max_t=3000)\n",
    "    plt.plot(scores)\n",
    "else: # Test     \n",
    "    agent.actor_local.load_state_dict(torch.load('../saved_model/saved_TD3_actor.pth'))\n",
    "    agent.critic_local_1.load_state_dict(torch.load('../saved_model/saved_TD3_critic_1.pth'))\n",
    "    agent.critic_local_2.load_state_dict(torch.load('../saved_model/saved_TD3_critic_2.pth'))\n",
    "\n",
    "\n",
    "    score_test = []                                  \n",
    "    for test_episode in range(1, 100+1):\n",
    "        train_mode = True if mode == 'fast' else False\n",
    "        env_info = agent.env.reset(train_mode=train_mode)[agent.brain_name]      # reset the environment\n",
    "        state = env_info.vector_observations                         # get the current state\n",
    "        score_temp = 0.                                              # initialize the score\n",
    "        while True:\n",
    "            action = agent.act(state, add_noise=False)               # select an action\n",
    "            env_info = env.step(action)[agent.brain_name]            # send the action to the environment\n",
    "            next_state = env_info.vector_observations                # get the next state\n",
    "            reward = env_info.rewards                                # get the reward\n",
    "            done = env_info.local_done                               # see if episode has finished\n",
    "            score_temp += np.mean(reward)                            # update the score\n",
    "            state = next_state                                       # roll over the state to next time step\n",
    "            if any(done):                                            # exit loop if episode finished\n",
    "                score_test.append(score_temp)\n",
    "                print('\\rEpisode {}\\tAverage Score: {:.2f}'.format(test_episode, np.mean(score_test)), end=\"\")\n",
    "                score_temp = 0.\n",
    "                break\n",
    "        \n",
    "    print(\"\\nFinal Score: {}\".format(np.mean(score_test)))\n",
    "    agent.env.close()"
   ],
   "outputs": [
    {
     "output_type": "stream",
     "name": "stdout",
     "text": [
      "Episode 10\tAverage Score : 0.82 \t eps : 0.988\n",
      "Episode 20\tAverage Score : 0.89 \t eps : 0.975\n",
      "Episode 30\tAverage Score : 0.96 \t eps : 0.963\n",
      "Episode 40\tAverage Score : 1.21 \t eps : 0.951\n",
      "Episode 50\tAverage Score : 1.59 \t eps : 0.939\n",
      "Episode 60\tAverage Score : 2.21 \t eps : 0.926\n",
      "Episode 70\tAverage Score : 3.00 \t eps : 0.914\n",
      "Episode 80\tAverage Score : 3.98 \t eps : 0.902\n",
      "Episode 90\tAverage Score : 4.95 \t eps : 0.889\n",
      "Episode 100\tAverage Score : 5.74 \t eps : 0.877\n",
      "Episode 110\tAverage Score : 6.83 \t eps : 0.865\n",
      "Episode 120\tAverage Score : 8.20 \t eps : 0.852\n",
      "Episode 130\tAverage Score : 9.80 \t eps : 0.840\n",
      "Episode 140\tAverage Score : 11.43 \t eps : 0.828\n",
      "Episode 150\tAverage Score : 13.14 \t eps : 0.816\n",
      "Episode 160\tAverage Score : 14.62 \t eps : 0.803\n",
      "Episode 170\tAverage Score : 16.31 \t eps : 0.791\n",
      "Episode 180\tAverage Score : 17.71 \t eps : 0.779\n",
      "Episode 190\tAverage Score : 18.82 \t eps : 0.766\n",
      "Episode 200\tAverage Score : 20.14 \t eps : 0.754\n",
      "Episode 210\tAverage Score : 21.99 \t eps : 0.742\n",
      "Episode 220\tAverage Score : 23.65 \t eps : 0.729\n",
      "Episode 230\tAverage Score : 25.03 \t eps : 0.717\n",
      "Episode 240\tAverage Score : 26.37 \t eps : 0.705\n",
      "Episode 250\tAverage Score : 27.41 \t eps : 0.693\n",
      "Episode 260\tAverage Score : 28.47 \t eps : 0.680\n",
      "Episode 270\tAverage Score : 28.80 \t eps : 0.668\n",
      "Episode 280\tAverage Score : 29.14 \t eps : 0.656\n",
      "Episode 289\tAverage Score : 30.06 \t eps : 0.645\n",
      "Environment solved in 189 episodes!\tAverage Score: 30.06\n"
     ]
    },
    {
     "output_type": "display_data",
     "data": {
      "image/png": "[encoded data removed]",
      "text/plain": [
       "<Figure size 432x288 with 1 Axes>"
      ]
     },
     "metadata": {
      "needs_background": "light"
     }
    }
   ],
   "metadata": {}
  },
  {
   "cell_type": "code",
   "execution_count": 9,
   "source": [
    "\n",
    "fig = plt.figure()\n",
    "ax = fig.add_subplot(111)\n",
    "plt.plot(np.arange(1, len(scores)+1), scores)\n",
    "plt.ylabel('Score')\n",
    "plt.xlabel('Episode #')\n",
    "plt.show()"
   ],
   "outputs": [
    {
     "output_type": "display_data",
     "data": {
      "image/png": "[encoded data removed]",
      "text/plain": [
       "<Figure size 432x288 with 1 Axes>"
      ]
     },
     "metadata": {
      "needs_background": "light"
     }
    }
   ],
   "metadata": {}
  }
 ],
 "metadata": {
  "kernelspec": {
   "name": "python3",
   "display_name": "Python 3.6.9 64-bit"
  },
  "language_info": {
   "codemirror_mode": {
    "name": "ipython",
    "version": 3
   },
   "file_extension": ".py",
   "mimetype": "text/x-python",
   "name": "python",
   "nbconvert_exporter": "python",
   "pygments_lexer": "ipython3",
   "version": "3.6.9"
  },
  "interpreter": {
   "hash": "767d51c1340bd893661ea55ea3124f6de3c7a262a8b4abca0554b478b1e2ff90"
  }
 },
 "nbformat": 4,
 "nbformat_minor": 2
}